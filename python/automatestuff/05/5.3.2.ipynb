{
 "cells": [
  {
   "cell_type": "code",
   "execution_count": 1,
   "metadata": {},
   "outputs": [
    {
     "name": "stdout",
     "output_type": "stream",
     "text": [
      "持ち物の数:\n",
      " - リンゴ 7\n",
      " - コップ 3\n",
      " - ケーキ 0\n",
      " - ハムサンド 3\n",
      " - アップルパイ 1\n"
     ]
    }
   ],
   "source": [
    "all_guests = {'アリス': {'リンゴ': 5, 'プレッツェル': 12},\n",
    "              'ボブ': {'ハムサンド': 3, 'リンゴ': 2},\n",
    "              'キャロル': {'コップ': 3, 'アップルパイ': 1}}\n",
    "\n",
    "def total_brought(guests, item):\n",
    "    num_brought = 0\n",
    "    for k, v in guests.items():\n",
    "        num_brought = num_brought + v.get(item, 0) \n",
    "    return num_brought\n",
    "\n",
    "print('持ち物の数:')\n",
    "print(' - リンゴ ' + str(total_brought(all_guests, 'リンゴ')))\n",
    "print(' - コップ ' + str(total_brought(all_guests, 'コップ')))\n",
    "print(' - ケーキ ' + str(total_brought(all_guests, 'ケーキ')))\n",
    "print(' - ハムサンド ' + str(total_brought(all_guests, 'ハムサンド')))\n",
    "print(' - アップルパイ ' + str(total_brought(all_guests, 'アップルパイ')))"
   ]
  }
 ],
 "metadata": {
  "kernelspec": {
   "display_name": "Python 3",
   "language": "python",
   "name": "python3"
  },
  "language_info": {
   "codemirror_mode": {
    "name": "ipython",
    "version": 3
   },
   "file_extension": ".py",
   "mimetype": "text/x-python",
   "name": "python",
   "nbconvert_exporter": "python",
   "pygments_lexer": "ipython3",
   "version": "3.6.3"
  }
 },
 "nbformat": 4,
 "nbformat_minor": 2
}
