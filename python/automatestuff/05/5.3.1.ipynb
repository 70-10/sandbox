{
 "cells": [
  {
   "cell_type": "code",
   "execution_count": 1,
   "metadata": {
    "collapsed": true
   },
   "outputs": [],
   "source": [
    "the_board = {\"top-L\": \" \", \"top-M\": \" \", \"top-R\": \" \",\n",
    "                        \"mid-L\": \" \", \"mid-M\": \" \", \"mid-R\": \" \",\n",
    "                        \"low-L\": \" \",  \"low-M\": \" \", \"low-R\": \" \"}"
   ]
  },
  {
   "cell_type": "code",
   "execution_count": 2,
   "metadata": {
    "collapsed": true
   },
   "outputs": [],
   "source": [
    "def print_board(board):\n",
    "    print(board[\"top-L\"] + \"|\"+ board[\"top-M\"] + \"|\" + board[\"top-R\"])\n",
    "    print(\"-+-+-\")\n",
    "    print(board[\"mid-L\"] + \"|\"+ board[\"mid-M\"] + \"|\" + board[\"mid-R\"])\n",
    "    print(\"-+-+-\")\n",
    "    print(board[\"low-L\"] + \"|\"+ board[\"low-M\"] + \"|\" + board[\"low-R\"])"
   ]
  },
  {
   "cell_type": "code",
   "execution_count": 3,
   "metadata": {},
   "outputs": [
    {
     "name": "stdout",
     "output_type": "stream",
     "text": [
      " | | \n",
      "-+-+-\n",
      " | | \n",
      "-+-+-\n",
      " | | \n"
     ]
    }
   ],
   "source": [
    "print_board(the_board)"
   ]
  },
  {
   "cell_type": "code",
   "execution_count": 4,
   "metadata": {
    "collapsed": true
   },
   "outputs": [],
   "source": [
    "the_board = {'top-L': 'O', 'top-M': 'O', 'top-R': 'O',\n",
    "                        'mid-L': 'X', 'mid-M': 'X', 'mid-R': ' ',\n",
    "                        'low-L': ' ', 'low-M': ' ', 'low-R': 'X'}"
   ]
  },
  {
   "cell_type": "code",
   "execution_count": 5,
   "metadata": {},
   "outputs": [
    {
     "name": "stdout",
     "output_type": "stream",
     "text": [
      "O|O|O\n",
      "-+-+-\n",
      "X|X| \n",
      "-+-+-\n",
      " | |X\n"
     ]
    }
   ],
   "source": [
    "print_board(the_board)"
   ]
  },
  {
   "cell_type": "code",
   "execution_count": 6,
   "metadata": {
    "collapsed": true
   },
   "outputs": [],
   "source": [
    "the_board = {\"top-L\": \" \", \"top-M\": \" \", \"top-R\": \" \",\n",
    "                        \"mid-L\": \" \", \"mid-M\": \" \", \"mid-R\": \" \",\n",
    "                        \"low-L\": \" \",  \"low-M\": \" \", \"low-R\": \" \"}"
   ]
  },
  {
   "cell_type": "code",
   "execution_count": 7,
   "metadata": {},
   "outputs": [
    {
     "name": "stdout",
     "output_type": "stream",
     "text": [
      " | | \n",
      "-+-+-\n",
      " | | \n",
      "-+-+-\n",
      " | | \n"
     ]
    }
   ],
   "source": [
    "print_board(the_board)"
   ]
  },
  {
   "cell_type": "code",
   "execution_count": null,
   "metadata": {},
   "outputs": [
    {
     "name": "stdout",
     "output_type": "stream",
     "text": [
      " | | \n",
      "-+-+-\n",
      " | | \n",
      "-+-+-\n",
      " | | \n",
      "X's turn\n",
      "top-L\n",
      "X| | \n",
      "-+-+-\n",
      " | | \n",
      "-+-+-\n",
      " | | \n",
      "O's turn\n",
      "mid-M\n",
      "X| | \n",
      "-+-+-\n",
      " |O| \n",
      "-+-+-\n",
      " | | \n",
      "X's turn\n"
     ]
    }
   ],
   "source": [
    "turn = \"X\"\n",
    "for i in range(9):\n",
    "    print_board(the_board)\n",
    "    print(turn + \"'s turn\")\n",
    "    move = input()\n",
    "    the_board[move] = turn\n",
    "    if turn == \"X\":\n",
    "        turn = \"O\"\n",
    "    else:\n",
    "        turn = \"X\""
   ]
  },
  {
   "cell_type": "code",
   "execution_count": null,
   "metadata": {
    "collapsed": true
   },
   "outputs": [],
   "source": []
  }
 ],
 "metadata": {
  "kernelspec": {
   "display_name": "Python 3",
   "language": "python",
   "name": "python3"
  },
  "language_info": {
   "codemirror_mode": {
    "name": "ipython",
    "version": 3
   },
   "file_extension": ".py",
   "mimetype": "text/x-python",
   "name": "python",
   "nbconvert_exporter": "python",
   "pygments_lexer": "ipython3",
   "version": "3.6.3"
  }
 },
 "nbformat": 4,
 "nbformat_minor": 2
}
