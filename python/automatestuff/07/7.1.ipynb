{
 "cells": [
  {
   "cell_type": "code",
   "execution_count": 1,
   "metadata": {},
   "outputs": [],
   "source": [
    "def is_phone_number(text):\n",
    "    if len(text) != 12:\n",
    "        return False\n",
    "    \n",
    "    for i in range(0, 3):\n",
    "        if not text[i].isdecimal():\n",
    "            return False\n",
    "    \n",
    "    if text[3] != \"-\":\n",
    "        return False\n",
    "    \n",
    "    for i in range(4, 7):\n",
    "        if not text[i].isdecimal():\n",
    "            return False\n",
    "    \n",
    "    if text[7] != \"-\":\n",
    "        return False\n",
    "    \n",
    "    for i in range(8, 12):\n",
    "        if not text[i].isdecimal():\n",
    "            return False\n",
    "    \n",
    "    return True"
   ]
  },
  {
   "cell_type": "code",
   "execution_count": 2,
   "metadata": {},
   "outputs": [
    {
     "data": {
      "text/plain": [
       "False"
      ]
     },
     "execution_count": 2,
     "metadata": {},
     "output_type": "execute_result"
    }
   ],
   "source": [
    "is_phone_number(\"0000000000\")"
   ]
  },
  {
   "cell_type": "code",
   "execution_count": 3,
   "metadata": {},
   "outputs": [
    {
     "data": {
      "text/plain": [
       "True"
      ]
     },
     "execution_count": 3,
     "metadata": {},
     "output_type": "execute_result"
    }
   ],
   "source": [
    "is_phone_number(\"000-000-0000\")"
   ]
  }
 ],
 "metadata": {
  "kernelspec": {
   "display_name": "Python 3",
   "language": "python",
   "name": "python3"
  },
  "language_info": {
   "codemirror_mode": {
    "name": "ipython",
    "version": 3
   },
   "file_extension": ".py",
   "mimetype": "text/x-python",
   "name": "python",
   "nbconvert_exporter": "python",
   "pygments_lexer": "ipython3",
   "version": "3.6.3"
  }
 },
 "nbformat": 4,
 "nbformat_minor": 2
}
