{
 "cells": [
  {
   "cell_type": "code",
   "execution_count": 1,
   "metadata": {},
   "outputs": [],
   "source": [
    "import cv2"
   ]
  },
  {
   "cell_type": "code",
   "execution_count": 2,
   "metadata": {},
   "outputs": [],
   "source": [
    "import numpy as np"
   ]
  },
  {
   "cell_type": "code",
   "execution_count": 3,
   "metadata": {},
   "outputs": [],
   "source": [
    "img = cv2.imread(\"input.png\")"
   ]
  },
  {
   "cell_type": "code",
   "execution_count": 4,
   "metadata": {},
   "outputs": [
    {
     "name": "stdout",
     "output_type": "stream",
     "text": [
      "rgb= [[[ 36  28 237]\n",
      "  [ 36  28 237]\n",
      "  [ 36  28 237]\n",
      "  ...\n",
      "  [204  72  63]\n",
      "  [204  72  63]\n",
      "  [204  72  63]]\n",
      "\n",
      " [[ 36  28 237]\n",
      "  [ 36  28 237]\n",
      "  [ 36  28 237]\n",
      "  ...\n",
      "  [204  72  63]\n",
      "  [204  72  63]\n",
      "  [204  72  63]]\n",
      "\n",
      " [[ 36  28 237]\n",
      "  [ 36  28 237]\n",
      "  [ 36  28 237]\n",
      "  ...\n",
      "  [204  72  63]\n",
      "  [204  72  63]\n",
      "  [204  72  63]]\n",
      "\n",
      " ...\n",
      "\n",
      " [[164  73 163]\n",
      "  [164  73 163]\n",
      "  [164  73 163]\n",
      "  ...\n",
      "  [  0   0   0]\n",
      "  [  0   0   0]\n",
      "  [  0   0   0]]\n",
      "\n",
      " [[164  73 163]\n",
      "  [164  73 163]\n",
      "  [164  73 163]\n",
      "  ...\n",
      "  [  0   0   0]\n",
      "  [  0   0   0]\n",
      "  [  0   0   0]]\n",
      "\n",
      " [[164  73 163]\n",
      "  [164  73 163]\n",
      "  [164  73 163]\n",
      "  ...\n",
      "  [  0   0   0]\n",
      "  [  0   0   0]\n",
      "  [  0   0   0]]]\n"
     ]
    }
   ],
   "source": [
    "print(\"rgb=\", img)"
   ]
  },
  {
   "cell_type": "code",
   "execution_count": 5,
   "metadata": {},
   "outputs": [],
   "source": [
    "gray = cv2.imread(\"input.png\", 0)"
   ]
  },
  {
   "cell_type": "code",
   "execution_count": 6,
   "metadata": {},
   "outputs": [
    {
     "name": "stdout",
     "output_type": "stream",
     "text": [
      "gray= [[138 138 138 ...  98  98  98]\n",
      " [138 138 138 ...  98  98  98]\n",
      " [138 138 138 ...  98  98  98]\n",
      " ...\n",
      " [120 120 120 ...   0   0   0]\n",
      " [120 120 120 ...   0   0   0]\n",
      " [120 120 120 ...   0   0   0]]\n"
     ]
    }
   ],
   "source": [
    "print(\"gray=\", gray)"
   ]
  },
  {
   "cell_type": "code",
   "execution_count": 7,
   "metadata": {},
   "outputs": [],
   "source": [
    "rgba = cv2.imread(\"input.png\", -1)"
   ]
  },
  {
   "cell_type": "code",
   "execution_count": 8,
   "metadata": {},
   "outputs": [
    {
     "name": "stdout",
     "output_type": "stream",
     "text": [
      "rgba= [[[ 36  28 237 255]\n",
      "  [ 36  28 237 255]\n",
      "  [ 36  28 237 255]\n",
      "  ...\n",
      "  [204  72  63 255]\n",
      "  [204  72  63 255]\n",
      "  [204  72  63 255]]\n",
      "\n",
      " [[ 36  28 237 255]\n",
      "  [ 36  28 237 255]\n",
      "  [ 36  28 237 255]\n",
      "  ...\n",
      "  [204  72  63 255]\n",
      "  [204  72  63 255]\n",
      "  [204  72  63 255]]\n",
      "\n",
      " [[ 36  28 237 255]\n",
      "  [ 36  28 237 255]\n",
      "  [ 36  28 237 255]\n",
      "  ...\n",
      "  [204  72  63 255]\n",
      "  [204  72  63 255]\n",
      "  [204  72  63 255]]\n",
      "\n",
      " ...\n",
      "\n",
      " [[164  73 163 255]\n",
      "  [164  73 163 255]\n",
      "  [164  73 163 255]\n",
      "  ...\n",
      "  [  0   0   0 255]\n",
      "  [  0   0   0 255]\n",
      "  [  0   0   0 255]]\n",
      "\n",
      " [[164  73 163 255]\n",
      "  [164  73 163 255]\n",
      "  [164  73 163 255]\n",
      "  ...\n",
      "  [  0   0   0 255]\n",
      "  [  0   0   0 255]\n",
      "  [  0   0   0 255]]\n",
      "\n",
      " [[164  73 163 255]\n",
      "  [164  73 163 255]\n",
      "  [164  73 163 255]\n",
      "  ...\n",
      "  [  0   0   0 255]\n",
      "  [  0   0   0 255]\n",
      "  [  0   0   0 255]]]\n"
     ]
    }
   ],
   "source": [
    "print(\"rgba=\", rgba)"
   ]
  }
 ],
 "metadata": {
  "kernelspec": {
   "display_name": "Python 3",
   "language": "python",
   "name": "python3"
  },
  "language_info": {
   "codemirror_mode": {
    "name": "ipython",
    "version": 3
   },
   "file_extension": ".py",
   "mimetype": "text/x-python",
   "name": "python",
   "nbconvert_exporter": "python",
   "pygments_lexer": "ipython3",
   "version": "3.6.4"
  }
 },
 "nbformat": 4,
 "nbformat_minor": 2
}
